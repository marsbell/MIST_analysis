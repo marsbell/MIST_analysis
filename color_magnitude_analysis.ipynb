{
 "cells": [
  {
   "cell_type": "markdown",
   "id": "73959443",
   "metadata": {},
   "source": [
    "### Dependencies and function definitions and grabbing model files"
   ]
  },
  {
   "cell_type": "code",
   "execution_count": null,
   "id": "02533b76",
   "metadata": {},
   "outputs": [],
   "source": [
    "from astropy.io import ascii\n",
    "import numpy as np\n",
    "import glob\n",
    "import os\n",
    "import sys\n",
    "import progressbar\n",
    "\n",
    "def import_data_files(files):\n",
    "    alldata = []\n",
    "\n",
    "    bar = progressbar.ProgressBar(maxval=len(files)).start()\n",
    "    for i,file in enumerate(files):\n",
    "        bar.update(i)\n",
    "        if \"ACS\" in file:\n",
    "            instrument = \"ACS_WFC\"\n",
    "        if \"WFC3\" in file:\n",
    "            instrument = \"WFC3\"\n",
    "        if \"WPC2\" in file:\n",
    "            instrument = \"WPC2\"\n",
    "            \n",
    "        basefile = os.path.basename(file)\n",
    "        basefile = basefile.replace(\"M.track.eep.cmd\", \"\")\n",
    "        mass = int(basefile)/10000.\n",
    "        table = ascii.read(file, header_start=14)\n",
    "        alldata.append({'table':table, 'instrument':instrument, 'mass':mass})\n",
    "        \n",
    "    bar.finish()\n",
    "    \n",
    "    return(alldata)\n",
    "\n",
    "def get_mass_limits(models, observations):\n",
    "    \n",
    "    masses = []\n",
    "    limits = []\n",
    "    for mass in sorted(np.unique([m['mass'] for m in models])):\n",
    "        if mass>80:continue\n",
    "        tables = [m['table'] for m in models if m['mass']==mass]\n",
    "        absmag = {}\n",
    "        for key in observations['photometry'].keys():\n",
    "            dm = 5*np.log10(observations['dist'])+25.0\n",
    "            absmag[key] = observations['photometry'][key] - dm - observations['extinction'][key]\n",
    "        \n",
    "        results = {}\n",
    "        for key in absmag.keys():\n",
    "            for table in tables:\n",
    "                mask = table['phase'] == 0.0\n",
    "                subtable = table[mask]\n",
    "                if key in subtable.keys():\n",
    "                    n = len(subtable[key]>absmag[key])\n",
    "                    results[key]=n\n",
    "                    break\n",
    "                    \n",
    "        if any([results[key]==0 for key in results.keys()]):\n",
    "            masses.append(mass)\n",
    "            limits.append(True)\n",
    "        else:\n",
    "            masses.append(mass)\n",
    "            limits.append(False)\n",
    "    \n",
    "    return(np.array(masses), np.array(limits))"
   ]
  },
  {
   "cell_type": "markdown",
   "id": "41f3de4f",
   "metadata": {},
   "source": [
    "### Import all of the model files and output as a single object"
   ]
  },
  {
   "cell_type": "code",
   "execution_count": null,
   "id": "5ccd2f51",
   "metadata": {
    "scrolled": true
   },
   "outputs": [],
   "source": [
    "basepath='/Users/ckilpatrick/Dropbox/scripts/python/progenitors/sed/data/mist'\n",
    "if os.path.exists(basepath):\n",
    "    globstr = os.path.join(basepath, 'FEH_0000','*','*.cmd')\n",
    "else:\n",
    "    globstr = os.path.join('FEH_0000','*','*.cmd')\n",
    "\n",
    "files = glob.glob(globstr)\n",
    "nfiles = len(files)\n",
    "print(f'There are {nfiles} files to grab')\n",
    "\n",
    "allfiles = import_data_files(files)"
   ]
  },
  {
   "cell_type": "code",
   "execution_count": null,
   "id": "8d295e1b",
   "metadata": {
    "scrolled": false
   },
   "outputs": [],
   "source": [
    "SN80D = {'photometry':{'ACS_WFC_F555W':26.8269, 'ACS_WFC_F814W':26.8553}, \n",
    "         'dist':22.583, \n",
    "         'extinction':{'ACS_WFC_F555W':0.044, 'ACS_WFC_F814W':0.024}}\n",
    "\n",
    "masses, limits = get_mass_limits(allfiles, SN80D)\n",
    "print(masses, limits)"
   ]
  },
  {
   "cell_type": "code",
   "execution_count": null,
   "id": "275b49af",
   "metadata": {},
   "outputs": [],
   "source": [
    "import numpy as np\n",
    "\n",
    "# SN2020ZBV\n",
    "f814w = 26.5717 \n",
    "f555w = 25.9415\n",
    "\n",
    "distance = 18.28\n",
    "dm = 5*np.log10(distance)+25.0\n",
    "\n",
    "a_555w = 0.0\n",
    "a_814w = 0.0"
   ]
  },
  {
   "cell_type": "code",
   "execution_count": null,
   "id": "9484789e",
   "metadata": {},
   "outputs": [],
   "source": [
    "for absolute_magnitude,key in zip([f814w-dm,f555w-dm],['ACS_WFC_F814W','ACS_WFC_F555W']):\n",
    "        \n",
    "        print(absolute_magnitude)\n",
    "        mask = cmd_table[key]>absolute_magnitude\n",
    "        n = len(cmd_table[mask])\n",
    "        \n",
    "        print(n)"
   ]
  },
  {
   "cell_type": "code",
   "execution_count": null,
   "id": "5ae25fd7",
   "metadata": {},
   "outputs": [],
   "source": [
    "import pandas as pd\n",
    "\n",
    "df = pd.read_csv(\"Limited Mags.csv\")\n",
    "#df = df[df['Filter']=='acs.f55w']\n",
    "\n",
    "print(df)"
   ]
  }
 ],
 "metadata": {
  "kernelspec": {
   "display_name": "Python 3 (ipykernel)",
   "language": "python",
   "name": "python3"
  },
  "language_info": {
   "codemirror_mode": {
    "name": "ipython",
    "version": 3
   },
   "file_extension": ".py",
   "mimetype": "text/x-python",
   "name": "python",
   "nbconvert_exporter": "python",
   "pygments_lexer": "ipython3",
   "version": "3.11.3"
  }
 },
 "nbformat": 4,
 "nbformat_minor": 5
}
